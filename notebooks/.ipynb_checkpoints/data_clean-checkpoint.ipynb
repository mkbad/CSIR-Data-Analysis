{
 "cells": [
  {
   "cell_type": "code",
   "execution_count": 221,
   "id": "eff37d13-e71d-4370-9837-6a3678950dcf",
   "metadata": {},
   "outputs": [],
   "source": [
    "import pandas as pd\n",
    "import numpy as np"
   ]
  },
  {
   "cell_type": "code",
   "execution_count": 222,
   "id": "c46b1f4a-e7a0-41f1-a164-457ea298ddc5",
   "metadata": {},
   "outputs": [],
   "source": [
    "df = pd.read_csv(\"../main_data_id.csv\", index_col = 'id')"
   ]
  },
  {
   "cell_type": "code",
   "execution_count": 223,
   "id": "3c425275-f5f3-4ed2-a843-e6398b0c6563",
   "metadata": {},
   "outputs": [
    {
     "data": {
      "text/html": [
       "<div>\n",
       "<style scoped>\n",
       "    .dataframe tbody tr th:only-of-type {\n",
       "        vertical-align: middle;\n",
       "    }\n",
       "\n",
       "    .dataframe tbody tr th {\n",
       "        vertical-align: top;\n",
       "    }\n",
       "\n",
       "    .dataframe thead th {\n",
       "        text-align: right;\n",
       "    }\n",
       "</style>\n",
       "<table border=\"1\" class=\"dataframe\">\n",
       "  <thead>\n",
       "    <tr style=\"text-align: right;\">\n",
       "      <th></th>\n",
       "      <th>record_id</th>\n",
       "      <th>Region</th>\n",
       "      <th>commodity_value</th>\n",
       "      <th>edu_level</th>\n",
       "      <th>fbo_membership</th>\n",
       "      <th>social_membership</th>\n",
       "      <th>smb_clim_infor</th>\n",
       "      <th>climate_access</th>\n",
       "      <th>clim_infor_useful</th>\n",
       "      <th>source_information</th>\n",
       "      <th>...</th>\n",
       "      <th>other_asset2</th>\n",
       "      <th>other_asset3</th>\n",
       "      <th>other_asset4</th>\n",
       "      <th>other_asset5</th>\n",
       "      <th>other_asset6</th>\n",
       "      <th>other_asset7</th>\n",
       "      <th>other_asset8</th>\n",
       "      <th>other_asset9</th>\n",
       "      <th>other_asset10</th>\n",
       "      <th>other_asset11</th>\n",
       "    </tr>\n",
       "    <tr>\n",
       "      <th>id</th>\n",
       "      <th></th>\n",
       "      <th></th>\n",
       "      <th></th>\n",
       "      <th></th>\n",
       "      <th></th>\n",
       "      <th></th>\n",
       "      <th></th>\n",
       "      <th></th>\n",
       "      <th></th>\n",
       "      <th></th>\n",
       "      <th></th>\n",
       "      <th></th>\n",
       "      <th></th>\n",
       "      <th></th>\n",
       "      <th></th>\n",
       "      <th></th>\n",
       "      <th></th>\n",
       "      <th></th>\n",
       "      <th></th>\n",
       "      <th></th>\n",
       "      <th></th>\n",
       "    </tr>\n",
       "  </thead>\n",
       "  <tbody>\n",
       "    <tr>\n",
       "      <th>1</th>\n",
       "      <td>1234175</td>\n",
       "      <td>Bono East</td>\n",
       "      <td>Yam</td>\n",
       "      <td>Primary education</td>\n",
       "      <td>Yes</td>\n",
       "      <td>Yes</td>\n",
       "      <td>Yes</td>\n",
       "      <td>Yes</td>\n",
       "      <td>very useful</td>\n",
       "      <td>Telephone, Radio, Neighbor</td>\n",
       "      <td>...</td>\n",
       "      <td>Cutlass</td>\n",
       "      <td>Mobilephone</td>\n",
       "      <td>Television</td>\n",
       "      <td>Motorbike</td>\n",
       "      <td>Radio</td>\n",
       "      <td>NaN</td>\n",
       "      <td>NaN</td>\n",
       "      <td>NaN</td>\n",
       "      <td>NaN</td>\n",
       "      <td>NaN</td>\n",
       "    </tr>\n",
       "    <tr>\n",
       "      <th>2</th>\n",
       "      <td>1234300</td>\n",
       "      <td>Bono East</td>\n",
       "      <td>Yam</td>\n",
       "      <td>NaN</td>\n",
       "      <td>Yes</td>\n",
       "      <td>Yes</td>\n",
       "      <td>No</td>\n",
       "      <td>Yes</td>\n",
       "      <td>very useful</td>\n",
       "      <td>Extension Agents</td>\n",
       "      <td>...</td>\n",
       "      <td>Cutlass</td>\n",
       "      <td>Mobilephone</td>\n",
       "      <td>Motorbike</td>\n",
       "      <td>Radio</td>\n",
       "      <td>NaN</td>\n",
       "      <td>NaN</td>\n",
       "      <td>NaN</td>\n",
       "      <td>NaN</td>\n",
       "      <td>NaN</td>\n",
       "      <td>NaN</td>\n",
       "    </tr>\n",
       "    <tr>\n",
       "      <th>3</th>\n",
       "      <td>1234301</td>\n",
       "      <td>Bono East</td>\n",
       "      <td>Maize, Yam</td>\n",
       "      <td>NaN</td>\n",
       "      <td>No</td>\n",
       "      <td>Yes</td>\n",
       "      <td>No</td>\n",
       "      <td>Yes</td>\n",
       "      <td>somewhat useful</td>\n",
       "      <td>Radio, Extension Agents, Other farmers</td>\n",
       "      <td>...</td>\n",
       "      <td>Cutlass</td>\n",
       "      <td>Mobilephone</td>\n",
       "      <td>Radio</td>\n",
       "      <td>NaN</td>\n",
       "      <td>NaN</td>\n",
       "      <td>NaN</td>\n",
       "      <td>NaN</td>\n",
       "      <td>NaN</td>\n",
       "      <td>NaN</td>\n",
       "      <td>NaN</td>\n",
       "    </tr>\n",
       "    <tr>\n",
       "      <th>4</th>\n",
       "      <td>1235047</td>\n",
       "      <td>Bono East</td>\n",
       "      <td>Maize, Yam</td>\n",
       "      <td>Primary education</td>\n",
       "      <td>Yes</td>\n",
       "      <td>Yes</td>\n",
       "      <td>Yes</td>\n",
       "      <td>Yes</td>\n",
       "      <td>very useful</td>\n",
       "      <td>Radio, Extension Agents</td>\n",
       "      <td>...</td>\n",
       "      <td>Bike</td>\n",
       "      <td>Cutlass</td>\n",
       "      <td>Mobilephone</td>\n",
       "      <td>Television</td>\n",
       "      <td>Radio</td>\n",
       "      <td>NaN</td>\n",
       "      <td>NaN</td>\n",
       "      <td>NaN</td>\n",
       "      <td>NaN</td>\n",
       "      <td>NaN</td>\n",
       "    </tr>\n",
       "    <tr>\n",
       "      <th>5</th>\n",
       "      <td>1235048</td>\n",
       "      <td>Bono East</td>\n",
       "      <td>Maize, Yam</td>\n",
       "      <td>Secondary eduaction</td>\n",
       "      <td>Yes</td>\n",
       "      <td>Yes</td>\n",
       "      <td>Yes</td>\n",
       "      <td>Yes</td>\n",
       "      <td>very useful</td>\n",
       "      <td>Radio</td>\n",
       "      <td>...</td>\n",
       "      <td>Cutlass</td>\n",
       "      <td>Mobilephone</td>\n",
       "      <td>Radio</td>\n",
       "      <td>Motorbike</td>\n",
       "      <td>NaN</td>\n",
       "      <td>NaN</td>\n",
       "      <td>NaN</td>\n",
       "      <td>NaN</td>\n",
       "      <td>NaN</td>\n",
       "      <td>NaN</td>\n",
       "    </tr>\n",
       "  </tbody>\n",
       "</table>\n",
       "<p>5 rows × 168 columns</p>\n",
       "</div>"
      ],
      "text/plain": [
       "    record_id     Region commodity_value            edu_level fbo_membership  \\\n",
       "id                                                                             \n",
       "1     1234175  Bono East             Yam    Primary education            Yes   \n",
       "2     1234300  Bono East             Yam                  NaN            Yes   \n",
       "3     1234301  Bono East      Maize, Yam                  NaN             No   \n",
       "4     1235047  Bono East      Maize, Yam    Primary education            Yes   \n",
       "5     1235048  Bono East      Maize, Yam  Secondary eduaction            Yes   \n",
       "\n",
       "   social_membership smb_clim_infor climate_access clim_infor_useful  \\\n",
       "id                                                                     \n",
       "1                Yes            Yes            Yes       very useful   \n",
       "2                Yes             No            Yes       very useful   \n",
       "3                Yes             No            Yes   somewhat useful   \n",
       "4                Yes            Yes            Yes       very useful   \n",
       "5                Yes            Yes            Yes       very useful   \n",
       "\n",
       "                        source_information  ...  other_asset2 other_asset3  \\\n",
       "id                                          ...                              \n",
       "1               Telephone, Radio, Neighbor  ...       Cutlass  Mobilephone   \n",
       "2                         Extension Agents  ...       Cutlass  Mobilephone   \n",
       "3   Radio, Extension Agents, Other farmers  ...       Cutlass  Mobilephone   \n",
       "4                  Radio, Extension Agents  ...          Bike      Cutlass   \n",
       "5                                    Radio  ...       Cutlass  Mobilephone   \n",
       "\n",
       "    other_asset4 other_asset5 other_asset6 other_asset7 other_asset8  \\\n",
       "id                                                                     \n",
       "1     Television    Motorbike        Radio          NaN          NaN   \n",
       "2      Motorbike        Radio          NaN          NaN          NaN   \n",
       "3          Radio          NaN          NaN          NaN          NaN   \n",
       "4    Mobilephone   Television        Radio          NaN          NaN   \n",
       "5          Radio    Motorbike          NaN          NaN          NaN   \n",
       "\n",
       "   other_asset9  other_asset10 other_asset11  \n",
       "id                                            \n",
       "1           NaN            NaN           NaN  \n",
       "2           NaN            NaN           NaN  \n",
       "3           NaN            NaN           NaN  \n",
       "4           NaN            NaN           NaN  \n",
       "5           NaN            NaN           NaN  \n",
       "\n",
       "[5 rows x 168 columns]"
      ]
     },
     "execution_count": 223,
     "metadata": {},
     "output_type": "execute_result"
    }
   ],
   "source": [
    "df.head()"
   ]
  },
  {
   "cell_type": "code",
   "execution_count": 224,
   "id": "75bb0851-c7f9-45dc-8579-79c119da4128",
   "metadata": {},
   "outputs": [],
   "source": [
    "#function to extract list of values from columns\n",
    "def extract_details(list_of_col_values):\n",
    "    cleaned_list = []\n",
    "    for val in list_of_col_values:\n",
    "        res = val.split(\",\") #in case there are multiple values per line\n",
    "        for r in res:\n",
    "            cleaned_list.append(r.strip())\n",
    "    return cleaned_list"
   ]
  },
  {
   "cell_type": "code",
   "execution_count": 225,
   "id": "55c4c7fd-c33c-45fe-8294-fc14e5844371",
   "metadata": {},
   "outputs": [],
   "source": [
    "def create_df_with_ids(unique_list):\n",
    "    comm = []\n",
    "    for id in range(len(unique_list)):\n",
    "        new_id = id+1 #because IDs must start from 1\n",
    "        comm.append({'ID':new_id, 'Name':unique_list[id]})\n",
    "    df = pd.DataFrame(comm)\n",
    "    return df"
   ]
  },
  {
   "cell_type": "markdown",
   "id": "c8fe5b3a-197b-45ec-954b-cf30185063fa",
   "metadata": {},
   "source": [
    "# Extract Commodities"
   ]
  },
  {
   "cell_type": "code",
   "execution_count": 226,
   "id": "66535492-59fb-4a9d-8abc-0adc583bf1a4",
   "metadata": {},
   "outputs": [],
   "source": [
    "df['commodity_value'].fillna(\"N/A\", inplace = True)"
   ]
  },
  {
   "cell_type": "code",
   "execution_count": 227,
   "id": "309aa6b2-290c-48a2-b59f-f481cef3be2f",
   "metadata": {},
   "outputs": [],
   "source": [
    "commodity_names = df['commodity_value'].tolist()"
   ]
  },
  {
   "cell_type": "code",
   "execution_count": 228,
   "id": "96d39445-aff5-497d-bb5a-88ce5be456f3",
   "metadata": {},
   "outputs": [
    {
     "name": "stdout",
     "output_type": "stream",
     "text": [
      "['Yam' 'Maize' 'N/A' 'Sweet Potato' 'Tomatoes' 'Pepper' 'Cowpea']\n"
     ]
    }
   ],
   "source": [
    "#some of the rows contain multiple values\n",
    "#so we must split them and insert them individually into the final list\n",
    "cleaned_list = extract_details(commodity_names)\n",
    "print(pd.unique(cleaned_list))"
   ]
  },
  {
   "cell_type": "code",
   "execution_count": 229,
   "id": "caf76515-48c8-4695-aeea-7b33d3be0a1a",
   "metadata": {},
   "outputs": [
    {
     "data": {
      "text/plain": [
       "['Yam', 'Maize', 'Sweet Potato', 'Tomatoes', 'Pepper', 'Cowpea']"
      ]
     },
     "execution_count": 229,
     "metadata": {},
     "output_type": "execute_result"
    }
   ],
   "source": [
    "unique_commodities = list(pd.unique(cleaned_list))\n",
    "unique_commodities.remove(\"N/A\")\n",
    "unique_commodities"
   ]
  },
  {
   "cell_type": "code",
   "execution_count": 230,
   "id": "e8f594ee-01f0-4c03-9756-28bc19408b5a",
   "metadata": {},
   "outputs": [],
   "source": [
    "commodities_df = create_df_with_ids(unique_commodities)\n",
    "commodities_df.to_csv('../data/commodity.csv', index=False, header=True)"
   ]
  },
  {
   "cell_type": "markdown",
   "id": "e0869db6-725b-463a-9ee1-68558ac2e600",
   "metadata": {},
   "source": [
    "# Extract Source Information"
   ]
  },
  {
   "cell_type": "code",
   "execution_count": 231,
   "id": "2b09c70c-96dc-44db-a96c-8b2aed3ea97c",
   "metadata": {},
   "outputs": [],
   "source": [
    "df['source_information'].fillna(\"N/A\", inplace = True)"
   ]
  },
  {
   "cell_type": "code",
   "execution_count": 232,
   "id": "a8ec08eb-6ebf-4e3b-a974-f5eda88d6264",
   "metadata": {},
   "outputs": [],
   "source": [
    "source_names = df['source_information'].tolist()"
   ]
  },
  {
   "cell_type": "code",
   "execution_count": 233,
   "id": "730870f4-05e3-4e19-94be-86c558942bf4",
   "metadata": {},
   "outputs": [
    {
     "name": "stdout",
     "output_type": "stream",
     "text": [
      "['Telephone' 'Radio' 'Neighbor' 'Extension Agents' 'Other farmers' 'N/A'\n",
      " 'TV' 'Farmer-Based Organization' 'Community information centers']\n"
     ]
    }
   ],
   "source": [
    "cleaned_list = extract_details(source_names)\n",
    "print(pd.unique(cleaned_list))"
   ]
  },
  {
   "cell_type": "code",
   "execution_count": 234,
   "id": "9209ebf7-adf3-4f07-93e6-ff560e2ac7b9",
   "metadata": {},
   "outputs": [
    {
     "data": {
      "text/plain": [
       "['Telephone',\n",
       " 'Radio',\n",
       " 'Neighbor',\n",
       " 'Extension Agents',\n",
       " 'Other farmers',\n",
       " 'TV',\n",
       " 'Farmer-Based Organization',\n",
       " 'Community information centers']"
      ]
     },
     "execution_count": 234,
     "metadata": {},
     "output_type": "execute_result"
    }
   ],
   "source": [
    "unique_items = list(pd.unique(cleaned_list))\n",
    "unique_items.remove(\"N/A\")\n",
    "unique_items"
   ]
  },
  {
   "cell_type": "code",
   "execution_count": 235,
   "id": "b2e28877-6b6a-4b9f-a13c-a6f8492709be",
   "metadata": {},
   "outputs": [],
   "source": [
    "new_df = create_df_with_ids(unique_items)\n",
    "new_df.to_csv('../data/source_information.csv', index=False, header=True)"
   ]
  },
  {
   "cell_type": "markdown",
   "id": "1d8ce1f4-9b9a-4f9e-91d0-342e94f90a17",
   "metadata": {},
   "source": [
    "# Extract Prioritized CSA Input"
   ]
  },
  {
   "cell_type": "code",
   "execution_count": 236,
   "id": "2e3c09ce-3bbb-46e7-8fb9-5177b51b276c",
   "metadata": {},
   "outputs": [],
   "source": [
    "df['prioritized_csa_input'].fillna(\"N/A\", inplace = True)\n",
    "csa_names = df['prioritized_csa_input'].tolist()"
   ]
  },
  {
   "cell_type": "code",
   "execution_count": 237,
   "id": "527f5f8d-d0f0-4be8-a0f2-37ec66b4744d",
   "metadata": {},
   "outputs": [
    {
     "name": "stdout",
     "output_type": "stream",
     "text": [
      "['N/A' 'Cutlass' 'Improved seed of maize' 'NPK Fertilizer' 'Mobile phone'\n",
      " 'Insecticides' 'Ammonia/Urea fertilizer' 'Hoe' 'Tractor' 'Crop Residue'\n",
      " 'Radio' 'Sack' 'Land' 'Community Centers' 'Organic Fertilizer'\n",
      " 'Composting (farm yard manure and food waste)'\n",
      " 'Pest management using pheromones' 'Improved seed of pepper'\n",
      " 'Improved seed of cowpea' 'Innoculant' 'Seed Yam'\n",
      " 'Improved seed of tomato']\n"
     ]
    }
   ],
   "source": [
    "cleaned_list = extract_details(csa_names)\n",
    "print(pd.unique(cleaned_list))"
   ]
  },
  {
   "cell_type": "code",
   "execution_count": 238,
   "id": "273b751f-dd02-4f53-b2ca-785c7c143577",
   "metadata": {},
   "outputs": [
    {
     "data": {
      "text/plain": [
       "['Cutlass',\n",
       " 'Improved seed of maize',\n",
       " 'NPK Fertilizer',\n",
       " 'Mobile phone',\n",
       " 'Insecticides',\n",
       " 'Ammonia/Urea fertilizer',\n",
       " 'Hoe',\n",
       " 'Tractor',\n",
       " 'Crop Residue',\n",
       " 'Radio',\n",
       " 'Sack',\n",
       " 'Land',\n",
       " 'Community Centers',\n",
       " 'Organic Fertilizer',\n",
       " 'Composting (farm yard manure and food waste)',\n",
       " 'Pest management using pheromones',\n",
       " 'Improved seed of pepper',\n",
       " 'Improved seed of cowpea',\n",
       " 'Innoculant',\n",
       " 'Seed Yam',\n",
       " 'Improved seed of tomato']"
      ]
     },
     "execution_count": 238,
     "metadata": {},
     "output_type": "execute_result"
    }
   ],
   "source": [
    "unique_items = list(pd.unique(cleaned_list))\n",
    "unique_items.remove(\"N/A\")\n",
    "unique_items"
   ]
  },
  {
   "cell_type": "code",
   "execution_count": 239,
   "id": "99a8dfcb-bde2-458a-a643-55dfb8eb19eb",
   "metadata": {},
   "outputs": [],
   "source": [
    "new_df = create_df_with_ids(unique_items)\n",
    "new_df.to_csv('../data/prioritized_csa_input.csv', index=False, header=True)"
   ]
  },
  {
   "cell_type": "markdown",
   "id": "69318952-10b7-4eab-a4e8-fb2b61b31b22",
   "metadata": {},
   "source": [
    "# Extract Crop Harvest"
   ]
  },
  {
   "cell_type": "code",
   "execution_count": 240,
   "id": "b1b2f85b-7437-4778-89f6-d3d046bb7b09",
   "metadata": {},
   "outputs": [],
   "source": [
    "df['crop_harvest'].fillna(\"N/A\", inplace = True)\n",
    "harvest_names = df['crop_harvest'].tolist()"
   ]
  },
  {
   "cell_type": "code",
   "execution_count": 241,
   "id": "f8617bb9-4f5c-420e-bc32-5439319a60f9",
   "metadata": {},
   "outputs": [
    {
     "name": "stdout",
     "output_type": "stream",
     "text": [
      "['Quantity kept for planting (seed)' 'Quantity Consumed'\n",
      " 'Quantity lost through Post-harvest losses'\n",
      " 'Quantity used as payment for inputs' 'Other'\n",
      " 'Quantity bartered or exchanged for goods and services' 'N/A']\n"
     ]
    }
   ],
   "source": [
    "cleaned_list = extract_details(harvest_names)\n",
    "print(pd.unique(cleaned_list))"
   ]
  },
  {
   "cell_type": "code",
   "execution_count": 242,
   "id": "6913d9dc-794b-488a-bd99-49967f379c30",
   "metadata": {},
   "outputs": [
    {
     "data": {
      "text/plain": [
       "['Quantity kept for planting (seed)',\n",
       " 'Quantity Consumed',\n",
       " 'Quantity lost through Post-harvest losses',\n",
       " 'Quantity used as payment for inputs',\n",
       " 'Other',\n",
       " 'Quantity bartered or exchanged for goods and services']"
      ]
     },
     "execution_count": 242,
     "metadata": {},
     "output_type": "execute_result"
    }
   ],
   "source": [
    "unique_items = list(pd.unique(cleaned_list))\n",
    "unique_items.remove(\"N/A\")\n",
    "unique_items"
   ]
  },
  {
   "cell_type": "code",
   "execution_count": 243,
   "id": "2ec8ba36-2eed-4547-9115-68ad8638d102",
   "metadata": {},
   "outputs": [],
   "source": [
    "new_df = create_df_with_ids(unique_items)\n",
    "new_df.to_csv('../data/crop_harvest.csv', index=False, header=True)"
   ]
  },
  {
   "cell_type": "markdown",
   "id": "8586d19f-7562-4b65-b2b8-7c56d238f4e4",
   "metadata": {},
   "source": [
    "# Extract Money Borrowed"
   ]
  },
  {
   "cell_type": "code",
   "execution_count": 244,
   "id": "cc6cb38f-e13b-4226-b150-67e65ab2c134",
   "metadata": {},
   "outputs": [],
   "source": [
    "df['money_borrowed'].fillna(\"N/A\", inplace = True)\n",
    "borrowed_names = df['money_borrowed'].tolist()"
   ]
  },
  {
   "cell_type": "code",
   "execution_count": 245,
   "id": "db74402d-1397-4f3b-b8cc-6b85532002e3",
   "metadata": {},
   "outputs": [
    {
     "name": "stdout",
     "output_type": "stream",
     "text": [
      "['N/A' 'Informal savings and credit group' 'Relative and friends' 'Bank'\n",
      " 'Money lender' 'Micro-finance institution' 'NGO/Church/Mosque']\n"
     ]
    }
   ],
   "source": [
    "cleaned_list = extract_details(borrowed_names)\n",
    "print(pd.unique(cleaned_list))"
   ]
  },
  {
   "cell_type": "code",
   "execution_count": 246,
   "id": "d449c0c6-af80-4973-a170-cf446057e1c4",
   "metadata": {},
   "outputs": [
    {
     "data": {
      "text/plain": [
       "['Informal savings and credit group',\n",
       " 'Relative and friends',\n",
       " 'Bank',\n",
       " 'Money lender',\n",
       " 'Micro-finance institution',\n",
       " 'NGO/Church/Mosque']"
      ]
     },
     "execution_count": 246,
     "metadata": {},
     "output_type": "execute_result"
    }
   ],
   "source": [
    "unique_items = list(pd.unique(cleaned_list))\n",
    "unique_items.remove(\"N/A\")\n",
    "unique_items"
   ]
  },
  {
   "cell_type": "code",
   "execution_count": 247,
   "id": "578caded-f8b4-409d-b0c6-45f62eda8378",
   "metadata": {},
   "outputs": [],
   "source": [
    "new_df = create_df_with_ids(unique_items)\n",
    "new_df.to_csv('../data/money_borrowed.csv', index=False, header=True)"
   ]
  },
  {
   "cell_type": "markdown",
   "id": "c497568e",
   "metadata": {},
   "source": [
    "# Extract CSA Practice Awareness *"
   ]
  },
  {
   "cell_type": "code",
   "execution_count": 248,
   "id": "c471eb9e",
   "metadata": {},
   "outputs": [],
   "source": [
    "df['csa_practice_awareness'].fillna(\"N/A\", inplace = True)\n",
    "csa_prac_aware = df['csa_practice_awareness'].tolist()"
   ]
  },
  {
   "cell_type": "code",
   "execution_count": 249,
   "id": "fdc543f0",
   "metadata": {},
   "outputs": [
    {
     "name": "stdout",
     "output_type": "stream",
     "text": [
      "['Promotion of stress (drought' 'early maturing'\n",
      " 'striga and low N ) tolerant Improved maize' 'cowpea varieties'\n",
      " 'Seedbed options-Ridging as an alternative to mounding for yam production'\n",
      " 'Water management (mulching)'\n",
      " 'Promotion of disease and pest tolerant maize and cowpea varieties'\n",
      " 'Minimum tillage for maize' 'cowpea and vegetable production'\n",
      " 'Enhancing access to climate information'\n",
      " 'Minimum tillage  for maize and cowpea production'\n",
      " 'Promotion of disease and pest tolerant maize' 'cowpea'\n",
      " 'potato and tomato varieties'\n",
      " 'Organic amendment for improving soil health'\n",
      " 'Promotion of On-Farm Composting' 'Enhanced biopesticide use in yam'\n",
      " 'maize and cowpea  systems'\n",
      " 'Promotion of disease and pest tolerant potato varieties'\n",
      " 'Enhanced biopesticide use in potato systems' 'N/A'\n",
      " 'Pest management using sticky traps' 'pheromones'\n",
      " 'Composting (farm yard manure and food waste)' 'Seasonal calenders'\n",
      " 'Leguminous crops as previous crop to cereals'\n",
      " 'Mucuna pruriens or cowpea /maize intercropping to build soil C stocks'\n",
      " 'Leguminous crops as previous crop'\n",
      " 'Promotion of Provitamin A and quality protein improved maize varieties'\n",
      " 'Promotion of Phosphorous efficient and Nitrogen fixing cowpea varieties']\n"
     ]
    }
   ],
   "source": [
    "cleaned_list = extract_details(csa_prac_aware)\n",
    "print(pd.unique(cleaned_list))"
   ]
  },
  {
   "cell_type": "code",
   "execution_count": 250,
   "id": "192623ed",
   "metadata": {},
   "outputs": [
    {
     "data": {
      "text/plain": [
       "['Promotion of stress (drought',\n",
       " 'early maturing',\n",
       " 'striga and low N ) tolerant Improved maize',\n",
       " 'cowpea varieties',\n",
       " 'Seedbed options-Ridging as an alternative to mounding for yam production',\n",
       " 'Water management (mulching)',\n",
       " 'Promotion of disease and pest tolerant maize and cowpea varieties',\n",
       " 'Minimum tillage for maize',\n",
       " 'cowpea and vegetable production',\n",
       " 'Enhancing access to climate information',\n",
       " 'Minimum tillage  for maize and cowpea production',\n",
       " 'Promotion of disease and pest tolerant maize',\n",
       " 'cowpea',\n",
       " 'potato and tomato varieties',\n",
       " 'Organic amendment for improving soil health',\n",
       " 'Promotion of On-Farm Composting',\n",
       " 'Enhanced biopesticide use in yam',\n",
       " 'maize and cowpea  systems',\n",
       " 'Promotion of disease and pest tolerant potato varieties',\n",
       " 'Enhanced biopesticide use in potato systems',\n",
       " 'Pest management using sticky traps',\n",
       " 'pheromones',\n",
       " 'Composting (farm yard manure and food waste)',\n",
       " 'Seasonal calenders',\n",
       " 'Leguminous crops as previous crop to cereals',\n",
       " 'Mucuna pruriens or cowpea /maize intercropping to build soil C stocks',\n",
       " 'Leguminous crops as previous crop',\n",
       " 'Promotion of Provitamin A and quality protein improved maize varieties',\n",
       " 'Promotion of Phosphorous efficient and Nitrogen fixing cowpea varieties']"
      ]
     },
     "execution_count": 250,
     "metadata": {},
     "output_type": "execute_result"
    }
   ],
   "source": [
    "unique_items = list(pd.unique(cleaned_list))\n",
    "unique_items.remove(\"N/A\")\n",
    "unique_items"
   ]
  },
  {
   "cell_type": "code",
   "execution_count": 251,
   "id": "a99df3ad",
   "metadata": {},
   "outputs": [],
   "source": [
    "new_df = create_df_with_ids(unique_items)\n",
    "new_df.to_csv('../data/csa_practice_awareness.csv', index=False, header=True)"
   ]
  },
  {
   "cell_type": "markdown",
   "id": "c3a553a0",
   "metadata": {},
   "source": [
    "# Extract CSA Practices *"
   ]
  },
  {
   "cell_type": "code",
   "execution_count": 252,
   "id": "8754ef7d",
   "metadata": {},
   "outputs": [],
   "source": [
    "df['csa_practices'].fillna(\"N/A\", inplace = True)\n",
    "csa_practices = df['csa_practices'].tolist()"
   ]
  },
  {
   "cell_type": "code",
   "execution_count": 253,
   "id": "ce80e76e",
   "metadata": {},
   "outputs": [
    {
     "name": "stdout",
     "output_type": "stream",
     "text": [
      "['None' 'Promotion of stress (drought' 'early maturing'\n",
      " 'striga and low N ) tolerant Improved maize' 'cowpea varieties'\n",
      " 'Minimum tillage for maize' 'cowpea and vegetable production'\n",
      " 'Promotion of disease and pest tolerant maize and cowpea varieties'\n",
      " 'Seedbed options-Ridging as an alternative to mounding for yam production'\n",
      " 'Water management (mulching)' 'Enhancing access to climate information'\n",
      " 'Promotion of disease and pest tolerant maize' 'cowpea'\n",
      " 'potato and tomato varieties'\n",
      " 'Organic amendment for improving soil health'\n",
      " 'Promotion of On-Farming Composting'\n",
      " 'Promotion of disease and pest tolerant potato varieties'\n",
      " 'Enhanced biopesticide use in yam' 'maize and cowpea  systems'\n",
      " 'Enhanced biopesticide use in potato system' 'N/A'\n",
      " 'Composting (farm yard manure and food waste)'\n",
      " 'Pest management using sticky traps' 'pheromones'\n",
      " 'Leguminous crops as previous crop to cereals'\n",
      " 'Mucuna pruriens or cowpea /maize intercropping to build soil C stocks'\n",
      " 'Leguminous crops as previous crop' 'Seasonal calenders'\n",
      " 'Promotion of Provitamin A and quality protein improved maize varieties'\n",
      " 'Promotion of Phosphorous efficient and Nitrogen fixing cowpea varieties']\n"
     ]
    }
   ],
   "source": [
    "cleaned_list = extract_details(csa_practices)\n",
    "print(pd.unique(cleaned_list))"
   ]
  },
  {
   "cell_type": "code",
   "execution_count": 254,
   "id": "11d029b4",
   "metadata": {},
   "outputs": [
    {
     "data": {
      "text/plain": [
       "['None',\n",
       " 'Promotion of stress (drought',\n",
       " 'early maturing',\n",
       " 'striga and low N ) tolerant Improved maize',\n",
       " 'cowpea varieties',\n",
       " 'Minimum tillage for maize',\n",
       " 'cowpea and vegetable production',\n",
       " 'Promotion of disease and pest tolerant maize and cowpea varieties',\n",
       " 'Seedbed options-Ridging as an alternative to mounding for yam production',\n",
       " 'Water management (mulching)',\n",
       " 'Enhancing access to climate information',\n",
       " 'Promotion of disease and pest tolerant maize',\n",
       " 'cowpea',\n",
       " 'potato and tomato varieties',\n",
       " 'Organic amendment for improving soil health',\n",
       " 'Promotion of On-Farming Composting',\n",
       " 'Promotion of disease and pest tolerant potato varieties',\n",
       " 'Enhanced biopesticide use in yam',\n",
       " 'maize and cowpea  systems',\n",
       " 'Enhanced biopesticide use in potato system',\n",
       " 'Composting (farm yard manure and food waste)',\n",
       " 'Pest management using sticky traps',\n",
       " 'pheromones',\n",
       " 'Leguminous crops as previous crop to cereals',\n",
       " 'Mucuna pruriens or cowpea /maize intercropping to build soil C stocks',\n",
       " 'Leguminous crops as previous crop',\n",
       " 'Seasonal calenders',\n",
       " 'Promotion of Provitamin A and quality protein improved maize varieties',\n",
       " 'Promotion of Phosphorous efficient and Nitrogen fixing cowpea varieties']"
      ]
     },
     "execution_count": 254,
     "metadata": {},
     "output_type": "execute_result"
    }
   ],
   "source": [
    "unique_items = list(pd.unique(cleaned_list))\n",
    "unique_items.remove(\"N/A\")\n",
    "unique_items"
   ]
  },
  {
   "cell_type": "code",
   "execution_count": 255,
   "id": "17c34691",
   "metadata": {},
   "outputs": [],
   "source": [
    "new_df = create_df_with_ids(unique_items)\n",
    "new_df.to_csv('../data/csa_practices.csv', index=False, header=True)"
   ]
  },
  {
   "cell_type": "markdown",
   "id": "b450976a",
   "metadata": {},
   "source": [
    "# Extract Commodity Value Chain"
   ]
  },
  {
   "cell_type": "code",
   "execution_count": 256,
   "id": "326fd781",
   "metadata": {},
   "outputs": [],
   "source": [
    "df['commodity_value_chain'].fillna(\"N/A\", inplace = True)\n",
    "comm_val_chain = df['commodity_value_chain'].tolist()"
   ]
  },
  {
   "cell_type": "code",
   "execution_count": 257,
   "id": "2c0151f2",
   "metadata": {},
   "outputs": [
    {
     "name": "stdout",
     "output_type": "stream",
     "text": [
      "['Yam' 'Other' 'Maize' 'Cowpea' 'Sweet Potato' 'N/A' 'Tomatoes']\n"
     ]
    }
   ],
   "source": [
    "cleaned_list = extract_details(comm_val_chain)\n",
    "print(pd.unique(cleaned_list))"
   ]
  },
  {
   "cell_type": "code",
   "execution_count": 258,
   "id": "a63d708c",
   "metadata": {},
   "outputs": [
    {
     "data": {
      "text/plain": [
       "['Yam', 'Other', 'Maize', 'Cowpea', 'Sweet Potato', 'Tomatoes']"
      ]
     },
     "execution_count": 258,
     "metadata": {},
     "output_type": "execute_result"
    }
   ],
   "source": [
    "unique_items = list(pd.unique(cleaned_list))\n",
    "unique_items.remove(\"N/A\")\n",
    "unique_items"
   ]
  },
  {
   "cell_type": "code",
   "execution_count": 259,
   "id": "9e206d6f",
   "metadata": {},
   "outputs": [],
   "source": [
    "new_df = create_df_with_ids(unique_items)\n",
    "new_df.to_csv('../data/commodity_value_chain.csv', index=False, header=True)"
   ]
  }
 ],
 "metadata": {
  "kernelspec": {
   "display_name": "Python 3 (ipykernel)",
   "language": "python",
   "name": "python3"
  },
  "language_info": {
   "codemirror_mode": {
    "name": "ipython",
    "version": 3
   },
   "file_extension": ".py",
   "mimetype": "text/x-python",
   "name": "python",
   "nbconvert_exporter": "python",
   "pygments_lexer": "ipython3",
   "version": "3.11.1"
  }
 },
 "nbformat": 4,
 "nbformat_minor": 5
}
