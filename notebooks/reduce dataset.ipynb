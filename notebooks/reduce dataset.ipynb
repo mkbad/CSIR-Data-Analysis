{
 "cells": [
  {
   "cell_type": "code",
   "execution_count": 29,
   "metadata": {},
   "outputs": [],
   "source": [
    "import pandas as pd"
   ]
  },
  {
   "cell_type": "code",
   "execution_count": 30,
   "metadata": {},
   "outputs": [
    {
     "data": {
      "text/html": [
       "<div>\n",
       "<style scoped>\n",
       "    .dataframe tbody tr th:only-of-type {\n",
       "        vertical-align: middle;\n",
       "    }\n",
       "\n",
       "    .dataframe tbody tr th {\n",
       "        vertical-align: top;\n",
       "    }\n",
       "\n",
       "    .dataframe thead th {\n",
       "        text-align: right;\n",
       "    }\n",
       "</style>\n",
       "<table border=\"1\" class=\"dataframe\">\n",
       "  <thead>\n",
       "    <tr style=\"text-align: right;\">\n",
       "      <th></th>\n",
       "      <th>record_id</th>\n",
       "      <th>region</th>\n",
       "      <th>country</th>\n",
       "      <th>commodity_value</th>\n",
       "      <th>edu_level</th>\n",
       "      <th>fbo_membership</th>\n",
       "      <th>social_membership</th>\n",
       "      <th>smb_clim_infor</th>\n",
       "      <th>climate_access</th>\n",
       "      <th>clim_infor_useful</th>\n",
       "      <th>...</th>\n",
       "      <th>Whoownsthisproperty</th>\n",
       "      <th>Whodecidestodisposeoffthis</th>\n",
       "      <th>EI</th>\n",
       "      <th>NumberQty</th>\n",
       "      <th>EK</th>\n",
       "      <th>EL</th>\n",
       "      <th>EM</th>\n",
       "      <th>latitude</th>\n",
       "      <th>longitude</th>\n",
       "      <th>altitude</th>\n",
       "    </tr>\n",
       "  </thead>\n",
       "  <tbody>\n",
       "    <tr>\n",
       "      <th>0</th>\n",
       "      <td>1234175</td>\n",
       "      <td>Bono East</td>\n",
       "      <td>Ghana</td>\n",
       "      <td>Yam</td>\n",
       "      <td>Basic Education</td>\n",
       "      <td>Yes</td>\n",
       "      <td>Yes</td>\n",
       "      <td>Yes</td>\n",
       "      <td>Yes</td>\n",
       "      <td>Very useful</td>\n",
       "      <td>...</td>\n",
       "      <td>NaN</td>\n",
       "      <td>NaN</td>\n",
       "      <td>Mobile Phone</td>\n",
       "      <td>2.0</td>\n",
       "      <td>300.0</td>\n",
       "      <td>my wife and I</td>\n",
       "      <td>Husband</td>\n",
       "      <td>7.974376</td>\n",
       "      <td>-1.816734</td>\n",
       "      <td>8.500</td>\n",
       "    </tr>\n",
       "    <tr>\n",
       "      <th>1</th>\n",
       "      <td>1234300</td>\n",
       "      <td>Bono East</td>\n",
       "      <td>Ghana</td>\n",
       "      <td>Yam</td>\n",
       "      <td>NaN</td>\n",
       "      <td>Yes</td>\n",
       "      <td>Yes</td>\n",
       "      <td>No</td>\n",
       "      <td>Yes</td>\n",
       "      <td>Very useful</td>\n",
       "      <td>...</td>\n",
       "      <td>Husband</td>\n",
       "      <td>Husband</td>\n",
       "      <td>Mobile Phone</td>\n",
       "      <td>4.0</td>\n",
       "      <td>70.0</td>\n",
       "      <td>Myself</td>\n",
       "      <td>Husband</td>\n",
       "      <td>7.973636</td>\n",
       "      <td>-1.854744</td>\n",
       "      <td>4.288</td>\n",
       "    </tr>\n",
       "    <tr>\n",
       "      <th>2</th>\n",
       "      <td>1234301</td>\n",
       "      <td>Bono East</td>\n",
       "      <td>Ghana</td>\n",
       "      <td>Maize, Yam</td>\n",
       "      <td>NaN</td>\n",
       "      <td>No</td>\n",
       "      <td>Yes</td>\n",
       "      <td>No</td>\n",
       "      <td>Yes</td>\n",
       "      <td>Somewhat useful</td>\n",
       "      <td>...</td>\n",
       "      <td>Husband</td>\n",
       "      <td>Husband</td>\n",
       "      <td>Radio</td>\n",
       "      <td>1.0</td>\n",
       "      <td>60.0</td>\n",
       "      <td>Husband</td>\n",
       "      <td>Husband</td>\n",
       "      <td>7.973717</td>\n",
       "      <td>-1.854703</td>\n",
       "      <td>8.576</td>\n",
       "    </tr>\n",
       "    <tr>\n",
       "      <th>3</th>\n",
       "      <td>1235047</td>\n",
       "      <td>Bono East</td>\n",
       "      <td>Ghana</td>\n",
       "      <td>Maize, Yam</td>\n",
       "      <td>Basic Education</td>\n",
       "      <td>Yes</td>\n",
       "      <td>Yes</td>\n",
       "      <td>Yes</td>\n",
       "      <td>Yes</td>\n",
       "      <td>Very useful</td>\n",
       "      <td>...</td>\n",
       "      <td>Husband</td>\n",
       "      <td>Husband</td>\n",
       "      <td>Mobile Phone</td>\n",
       "      <td>2.0</td>\n",
       "      <td>100.0</td>\n",
       "      <td>Husband</td>\n",
       "      <td>Husband</td>\n",
       "      <td>7.946892</td>\n",
       "      <td>-1.622742</td>\n",
       "      <td>12.000</td>\n",
       "    </tr>\n",
       "    <tr>\n",
       "      <th>4</th>\n",
       "      <td>1235048</td>\n",
       "      <td>Bono East</td>\n",
       "      <td>Ghana</td>\n",
       "      <td>Maize, Yam</td>\n",
       "      <td>Secondary Education</td>\n",
       "      <td>Yes</td>\n",
       "      <td>Yes</td>\n",
       "      <td>Yes</td>\n",
       "      <td>Yes</td>\n",
       "      <td>Very useful</td>\n",
       "      <td>...</td>\n",
       "      <td>Myself</td>\n",
       "      <td>Son</td>\n",
       "      <td>Mobile Phone</td>\n",
       "      <td>1.0</td>\n",
       "      <td>120.0</td>\n",
       "      <td>Myself</td>\n",
       "      <td>Wife</td>\n",
       "      <td>7.947540</td>\n",
       "      <td>-1.623547</td>\n",
       "      <td>5.360</td>\n",
       "    </tr>\n",
       "  </tbody>\n",
       "</table>\n",
       "<p>5 rows × 138 columns</p>\n",
       "</div>"
      ],
      "text/plain": [
       "   record_id     region country commodity_value            edu_level  \\\n",
       "0    1234175  Bono East   Ghana             Yam      Basic Education   \n",
       "1    1234300  Bono East   Ghana             Yam                  NaN   \n",
       "2    1234301  Bono East   Ghana      Maize, Yam                  NaN   \n",
       "3    1235047  Bono East   Ghana      Maize, Yam      Basic Education   \n",
       "4    1235048  Bono East   Ghana      Maize, Yam  Secondary Education   \n",
       "\n",
       "  fbo_membership social_membership smb_clim_infor climate_access  \\\n",
       "0            Yes               Yes            Yes            Yes   \n",
       "1            Yes               Yes             No            Yes   \n",
       "2             No               Yes             No            Yes   \n",
       "3            Yes               Yes            Yes            Yes   \n",
       "4            Yes               Yes            Yes            Yes   \n",
       "\n",
       "  clim_infor_useful  ... Whoownsthisproperty  Whodecidestodisposeoffthis  \\\n",
       "0       Very useful  ...                 NaN                         NaN   \n",
       "1       Very useful  ...             Husband                     Husband   \n",
       "2   Somewhat useful  ...             Husband                     Husband   \n",
       "3       Very useful  ...             Husband                     Husband   \n",
       "4       Very useful  ...              Myself                         Son   \n",
       "\n",
       "             EI  NumberQty     EK             EL       EM  latitude longitude  \\\n",
       "0  Mobile Phone        2.0  300.0  my wife and I  Husband  7.974376 -1.816734   \n",
       "1  Mobile Phone        4.0   70.0         Myself  Husband  7.973636 -1.854744   \n",
       "2         Radio        1.0   60.0        Husband  Husband  7.973717 -1.854703   \n",
       "3  Mobile Phone        2.0  100.0        Husband  Husband  7.946892 -1.622742   \n",
       "4  Mobile Phone        1.0  120.0         Myself     Wife  7.947540 -1.623547   \n",
       "\n",
       "   altitude  \n",
       "0     8.500  \n",
       "1     4.288  \n",
       "2     8.576  \n",
       "3    12.000  \n",
       "4     5.360  \n",
       "\n",
       "[5 rows x 138 columns]"
      ]
     },
     "execution_count": 30,
     "metadata": {},
     "output_type": "execute_result"
    }
   ],
   "source": [
    "df = pd.read_csv('../md.csv')\n",
    "df.head()"
   ]
  },
  {
   "cell_type": "markdown",
   "metadata": {},
   "source": [
    "### reducing data\n",
    "##### dropping unwanted/irrelevant columns"
   ]
  },
  {
   "cell_type": "code",
   "execution_count": 31,
   "metadata": {},
   "outputs": [
    {
     "data": {
      "text/plain": [
       "Index(['record_id', 'region', 'country', 'commodity_value', 'edu_level',\n",
       "       'fbo_membership', 'social_membership', 'smb_clim_infor',\n",
       "       'climate_access', 'clim_infor_useful',\n",
       "       ...\n",
       "       'Whoownsthisproperty', 'Whodecidestodisposeoffthis', 'EI', 'NumberQty',\n",
       "       'EK', 'EL', 'EM', 'latitude', 'longitude', 'altitude'],\n",
       "      dtype='object', length=138)"
      ]
     },
     "execution_count": 31,
     "metadata": {},
     "output_type": "execute_result"
    }
   ],
   "source": [
    "df.columns"
   ]
  },
  {
   "cell_type": "code",
   "execution_count": 32,
   "metadata": {},
   "outputs": [],
   "source": [
    "#dropping comma seperated columns\n",
    "df.drop(['commodity_value','commodity_value_chain','crop_harvest','csa_practice_awareness','csa_practices',\n",
    "              'info_assistance','livestock','money_borrowed','other_asset','prioritized_csa_input','source_information',\n",
    "              'name_respondent', 'Agent_id', 'name_land', 'altitude'], axis=1, inplace=True)\n"
   ]
  },
  {
   "cell_type": "code",
   "execution_count": 33,
   "metadata": {},
   "outputs": [
    {
     "data": {
      "text/plain": [
       "Index(['record_id', 'region', 'country', 'edu_level', 'fbo_membership',\n",
       "       'social_membership', 'smb_clim_infor', 'climate_access',\n",
       "       'clim_infor_useful', 'years_climate_information',\n",
       "       ...\n",
       "       'UnitpriceGHC', 'Whoownsthisproperty', 'Whodecidestodisposeoffthis',\n",
       "       'EI', 'NumberQty', 'EK', 'EL', 'EM', 'latitude', 'longitude'],\n",
       "      dtype='object', length=123)"
      ]
     },
     "execution_count": 33,
     "metadata": {},
     "output_type": "execute_result"
    }
   ],
   "source": [
    "df.columns"
   ]
  },
  {
   "cell_type": "code",
   "execution_count": 34,
   "metadata": {},
   "outputs": [],
   "source": [
    "#df.fillna(\"N/A\", inplace=True)"
   ]
  },
  {
   "cell_type": "code",
   "execution_count": 35,
   "metadata": {},
   "outputs": [],
   "source": [
    "df.to_csv('../mdataset.csv', index=False)"
   ]
  }
 ],
 "metadata": {
  "kernelspec": {
   "display_name": "Python 3",
   "language": "python",
   "name": "python3"
  },
  "language_info": {
   "codemirror_mode": {
    "name": "ipython",
    "version": 3
   },
   "file_extension": ".py",
   "mimetype": "text/x-python",
   "name": "python",
   "nbconvert_exporter": "python",
   "pygments_lexer": "ipython3",
   "version": "3.10.9"
  },
  "orig_nbformat": 4
 },
 "nbformat": 4,
 "nbformat_minor": 2
}
